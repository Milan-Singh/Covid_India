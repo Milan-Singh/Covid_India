{
 "cells": [
  {
   "cell_type": "markdown",
   "id": "d0d961ed",
   "metadata": {},
   "source": [
    "<h1><center style='color:#f95738'>Table of Contents</h1><a class ='anchor' id='a'></a>\n",
    "\n",
    "\n",
    "* [Packages Used](#b)\n",
    "* [Data](#c)\n",
    "* [EDA](#d)\n",
    "* [Data Visualization](#e)\n",
    "    * **[State-Wise Trends](#j)**\n",
    "    * [Andaman and Nicobar Islands](#1) \n",
    "    * [Andhra Pradesh](#2)\n",
    "    * [Arunachal Pradesh](#3)\n",
    "    * [Assam](#4)\n",
    "    * [Bihar](#5)\n",
    "    * [Chandigarh](#6)\n",
    "    * [Chhattisgarh](#7)\n",
    "    * [Dadra and Nagar Haveli and Daman and Diu](#8)\n",
    "    * [Delhi](#9)\n",
    "    * [Goa](#10)\n",
    "    * [Gujarat](#11)\n",
    "    * [Haryana](#12)\n",
    "    * [Himachal Pradesh](#13)\n",
    "    * [Jammu and Kashmir](#14)\n",
    "    * [Jharkhand](#15)\n",
    "    * [Karnataka](#16)\n",
    "    * [Kerala](#17)\n",
    "    * [Ladakh](#18)\n",
    "    * [Lakshadweep](#19)\n",
    "    * [Madhya Pradesh](#20)\n",
    "    * [Maharashtra](#21)\n",
    "    * [Manipur](#22)\n",
    "    * [Meghalaya](#23)\n",
    "    * [Mizoram](#24)\n",
    "    * [Nagaland](#25)\n",
    "    * [Odisha](#26)\n",
    "    * [Puducherry](#27)\n",
    "    * [Punjab](#28)\n",
    "    * [Rajasthan](#29)\n",
    "    * [Sikkim](#30)\n",
    "    * [Tamil Nadu](#31)\n",
    "    * [Telangana](#32)\n",
    "    * [Tripura](#33)\n",
    "    * [Uttar Pradesh](#34)\n",
    "    * [Uttarakhand](#35)\n",
    "    * [West Bengal](#36)\n",
    "* [Stats](#f)"
   ]
  },
  {
   "cell_type": "markdown",
   "id": "73a27961",
   "metadata": {},
   "source": [
    "<h2><center style='color:#f95738'>Loading Packages</h2><a class='anchor' id='b'></a>"
   ]
  },
  {
   "cell_type": "code",
   "execution_count": null,
   "id": "d62b5faf",
   "metadata": {},
   "outputs": [],
   "source": [
    "import pandas as pd\n",
    "import numpy as np\n",
    "import seaborn as sns\n",
    "import matplotlib.pyplot as plt\n",
    "import warnings\n",
    "warnings.filterwarnings('ignore')\n",
    "from datetime import datetime\n",
    "from datetime import datetime\n",
    "today = datetime.now()\n",
    "import os\n",
    "if not os.path.exists('DIST_'+ today.strftime('%d-%m-%Y')):\n",
    "    os.mkdir('E:/Data Science Datasets/Covid_19_Master/Local/' +'DIST_'+ today.strftime('%d-%m-%Y'))\n",
    "\n",
    "%matplotlib inline"
   ]
  },
  {
   "cell_type": "markdown",
   "id": "638d3590",
   "metadata": {},
   "source": [
    "<h2><center style='color:#f95738'>Loading Data</h2><a class='anchor' id='c'></a>"
   ]
  },
  {
   "cell_type": "code",
   "execution_count": null,
   "id": "a1a2826f",
   "metadata": {},
   "outputs": [],
   "source": [
    "district = pd.read_csv('https://api.covid19india.org/csv/latest/districts.csv')"
   ]
  },
  {
   "cell_type": "markdown",
   "id": "e4933bc0",
   "metadata": {},
   "source": [
    "<h2><center style='color:#f95738'>Exploratory Data Analysis</h2><a class='anchor' id='d'></a>"
   ]
  },
  {
   "cell_type": "code",
   "execution_count": null,
   "id": "5f378dbe",
   "metadata": {},
   "outputs": [],
   "source": [
    "district.head()"
   ]
  },
  {
   "cell_type": "code",
   "execution_count": null,
   "id": "67151a40",
   "metadata": {},
   "outputs": [],
   "source": [
    "district.tail()"
   ]
  },
  {
   "cell_type": "code",
   "execution_count": null,
   "id": "e3420ad5",
   "metadata": {},
   "outputs": [],
   "source": [
    "district.describe(include = 'all').transpose()"
   ]
  },
  {
   "cell_type": "code",
   "execution_count": null,
   "id": "25fed086",
   "metadata": {},
   "outputs": [],
   "source": [
    "#Dealing with `nan` and changing data-type\n",
    "district['Tested'].fillna(0.0, inplace = True)\n",
    "district['Tested'] = district['Tested'].astype('int64')"
   ]
  },
  {
   "cell_type": "code",
   "execution_count": null,
   "id": "9362d9c2",
   "metadata": {},
   "outputs": [],
   "source": [
    "district.info()"
   ]
  },
  {
   "cell_type": "markdown",
   "id": "7cd8417d",
   "metadata": {},
   "source": [
    "##### Replacing names for districts which are present in 2 different states\n",
    "\n",
    "* `Pratapgarh` (rajasthan) ----> `Pratapgarh_rj`\n",
    "* `Aurangabad` (bihar)  --------> `Aurangabad_br`\n",
    "* `Balrampur` (chhattisgarh) --------> `Balrampur_cg`\n",
    "* `Bilaspur` (himanchal pradesh) --------> `Bilaspur_hp`"
   ]
  },
  {
   "cell_type": "code",
   "execution_count": null,
   "id": "289a3731",
   "metadata": {},
   "outputs": [],
   "source": [
    "district[(district['State'] == 'Rajasthan') & (district['District'] == 'Pratapgarh')]= district[(district['State'] == 'Rajasthan') & (district['District'] == 'Pratapgarh')].replace('Pratapgarh', 'Pratapgarh_rj')\n",
    "district[(district['State'] == 'Bihar') & (district['District'] == 'Aurangabad')]= district[(district['State'] == 'Bihar') & (district['District'] == 'Aurangabad')].replace('Aurangabad', 'Aurangabad_br')\n",
    "district[(district['State'] == 'Chhattisgarh') & (district['District'] == 'Balrampur')]= district[(district['State'] == 'Chhattisgarh') & (district['District'] == 'Balrampur')].replace('Balrampur', 'Balrampur_cg')\n",
    "district[(district['State'] == 'Himachal Pradesh') & (district['District'] == 'Bilaspur')]= district[(district['State'] == 'Himachal Pradesh') & (district['District'] == 'Bilaspur')].replace('Bilaspur', 'Bilaspur_hp')"
   ]
  },
  {
   "cell_type": "markdown",
   "id": "f8bc354a",
   "metadata": {},
   "source": [
    "#### Classifying Unknown Districts of Each State"
   ]
  },
  {
   "cell_type": "code",
   "execution_count": null,
   "id": "611d70d4",
   "metadata": {},
   "outputs": [],
   "source": [
    "district[(district['State'] == 'Manipur') & (district['District'] == 'Unknown')]= district[(district['State'] == 'Manipur') & (district['District'] == 'Unknown')].replace('Unknown', 'Unknown_MN')\n",
    "district[(district['State'] == 'Goa') & (district['District'] == 'Unknown')]= district[(district['State'] == 'Goa') & (district['District'] == 'Unknown')].replace('Unknown', 'Unknown_GA')\n",
    "district[(district['State'] == 'Assam') & (district['District'] == 'Unknown')]= district[(district['State'] == 'Assam') & (district['District'] == 'Unknown')].replace('Unknown', 'Unknown_AS')\n",
    "district[(district['State'] == 'Andaman and Nicobar Islands') & (district['District'] == 'Unknown')]= district[(district['State'] == 'Andaman and Nicobar Islands') & (district['District'] == 'Unknown')].replace('Unknown', 'Unknown_AN')\n",
    "district[(district['State'] == 'Telangana') & (district['District'] == 'Unknown')]= district[(district['State'] == 'Telangana') & (district['District'] == 'Unknown')].replace('Unknown', 'Unknown_TS')\n",
    "district[(district['State'] == 'Sikkim') & (district['District'] == 'Unknown')]= district[(district['State'] ==  'Sikkim') & (district['District'] == 'Unknown')].replace('Unknown', 'Unknown_SK')"
   ]
  },
  {
   "cell_type": "markdown",
   "id": "1e73bc1c",
   "metadata": {},
   "source": [
    "#### Dropping Invalid Districts from DataFrame"
   ]
  },
  {
   "cell_type": "code",
   "execution_count": null,
   "id": "0a9431e3",
   "metadata": {},
   "outputs": [],
   "source": [
    "dst = ['Italians', 'Foreign Evacuees','Other State' ,'Others','Unknown']\n",
    "for i in dst:\n",
    "    italian_index = district[district['District'] == i].index\n",
    "    district.drop(index = italian_index, inplace = True)"
   ]
  },
  {
   "cell_type": "markdown",
   "id": "0726e6af",
   "metadata": {},
   "source": [
    "### Districts "
   ]
  },
  {
   "cell_type": "markdown",
   "id": "d8bcdfcc",
   "metadata": {},
   "source": [
    "<h5 style='color:#312244'>Districts seperated for each state and saved to each state alias.</h5> "
   ]
  },
  {
   "cell_type": "code",
   "execution_count": null,
   "id": "49b7ca59",
   "metadata": {},
   "outputs": [],
   "source": [
    "#---------------Andaman & Nicobar------------------------------------\n",
    "an = ['Unknown_AN']\n",
    "ga = ['Unknown_GA']\n",
    "sk = ['Unknown_SK']\n",
    "aS = ['Unknown_AS']\n",
    "mn = ['Unknown_MN']\n",
    "ts = ['Unknown_TS']\n",
    "\n",
    "#----------------Andhra Pradesh--------------------------\n",
    "ap = ['Anantapur' ,'Chittoor', 'East Godavari', 'Guntur', 'Krishna', 'Kurnool','Prakasam', 'S.P.S. Nellore', 'Srikakulam' ,\n",
    "      'Visakhapatnam', 'West Godavari', 'Y.S.R. Kadapa', 'Vizianagaram']\n",
    "#----------------Arunachal Pradesh--------------------------\n",
    "ar = ['Lohit' ,'Papum Pare', 'Changlang', 'Anjaw' ,'Capital Complex', 'East Kameng','East Siang', 'Kamle' ,'Kra Daadi', \n",
    "      'Kurung Kumey', 'Lepa Rada' ,'Longding','Lower Dibang Valley', 'Lower Siang', 'Lower Subansiri', 'Namsai','Pakke Kessang'\n",
    "      ,'Shi Yomi' ,'Siang' ,'Tawang' ,'Tirap' ,'Upper Dibang Valley', 'Upper Siang', 'Upper Subansiri', 'West Kameng' \n",
    "      ,'West Siang']\n",
    "#----------------Bihar--------------------------\n",
    "br = ['Arwal' ,'Aurangabad_br' ,'Banka', 'Begusarai', 'Bhagalpur' ,'Bhojpur', 'Buxar','East Champaran' ,'Gaya' ,'Gopalganj', \n",
    "      'Jehanabad' ,'Kaimur', 'Lakhisarai','Madhepura', 'Munger', 'Nalanda' ,'Nawada' ,'Patna', 'Rohtas', 'Saran', 'Siwan',\n",
    "     'Vaishali' ,'Darbhanga' ,'Madhubani' ,'Purnia','Araria', 'Sheikhpura','Sitamarhi' ,'West Champaran', 'Katihar' ,'Sheohar' \n",
    "      ,'Samastipur','Kishanganj' ,'Khagaria' ,'Saharsa' ,'Supaul' ,'Muzaffarpur' ,'Jamui']\n",
    "#----------------Chandigarh--------------------------\n",
    "ch = ['Chandigarh']\n",
    "#----------------Chhattisgarh--------------------------\n",
    "cg = ['Bilaspur', 'Durg','Korba', 'Raipur', 'Rajnandgaon' ,'Surajpur', 'Kabeerdham', 'Balod', 'Janjgir Champa' ,'Koriya', \n",
    "      'Baloda Bazar', 'Gariaband' ,'Raigarh','Surguja', 'Balrampur_cg' ,'Bametara' ,'Bastar' ,'Bijapur','Dakshin Bastar Dantewada' \n",
    "      ,'Dhamtari' ,'Jashpur', 'Kondagaon' ,'Mahasamund','Mungeli', 'Narayanpur' ,'Sukma' ,'Uttar Bastar Kanker' \n",
    "      ,'Gaurela Pendra Marwahi' ]\n",
    "#----------------Delhi--------------------------\n",
    "dl = ['Delhi']\n",
    "#----------------Gujarat--------------------------\n",
    "gj = ['Ahmedabad', 'Anand' ,'Aravalli' ,'Banaskantha', 'Bharuch', 'Bhavnagar','Botad', 'Chhota Udaipur', 'Dahod',\n",
    "      'Dang', 'Gandhinagar', 'Gir Somnath','Jamnagar', 'Kheda', 'Kutch', 'Mahisagar', 'Mehsana', 'Morbi', 'Narmada', \n",
    "      'Navsari', 'Panchmahal', 'Patan', 'Porbandar' ,'Rajkot', 'Sabarkantha', 'Surat', 'Surendranagar' ,'Tapi', \n",
    "      'Vadodara', 'Valsad' ,'Devbhumi Dwarka', 'Junagadh',  'Amreli']\n",
    "#----------------Himachal Pradesh--------------------------\n",
    "hp = ['Chamba', 'Hamirpur', 'Kangra' ,'Sirmaur' ,'Solan', 'Una', 'Mandi', 'Shimla','Bilaspur_hp', 'Kullu', 'Kinnaur' \n",
    "      ,'Lahaul and Spiti']\n",
    "#----------------Haryana--------------------------\n",
    "hr = ['Ambala', 'Bhiwani', 'Charkhi Dadri' ,'Faridabad' ,'Fatehabad' ,'Gurugram','Hisar' ,'Jind' ,'Kaithal','Karnal' ,\n",
    "      'Kurukshetra' ,'Nuh','Palwal','Panchkula', 'Panipat', 'Rohtak', 'Sirsa', 'Sonipat' ,'Yamunanagar' ,'Jhajjar', \n",
    "      'Mahendragarh', 'Rewari']\n",
    "#----------------Jharkhand--------------------------\n",
    "jh = ['Bokaro', 'Deoghar' ,'Dhanbad', 'Garhwa' ,'Giridih' ,'Hazaribagh', 'Koderma', 'Palamu', 'Ranchi', 'Simdega' ,'Jamtara' \n",
    "      ,'Godda' ,'Dumka', 'East Singhbhum','Latehar' ,'Lohardaga' ,'Ramgarh', 'West Singhbhum' ,'Gumla', 'Saraikela-Kharsawan' ,\n",
    "      'Chatra' , 'Khunti','Pakur', 'Sahibganj']\n",
    "#----------------Jammu and Kashmir--------------------------\n",
    "jk = ['Anantnag', 'Bandipora', 'Baramulla', 'Budgam', 'Ganderbal' ,'Jammu' ,'Kathua','Kishtwar', 'Kulgam', 'Kupwara', 'Pulwama' \n",
    "      ,'Rajouri' ,'Ramban', 'Samba', 'Shopiyan', 'Srinagar' ,'Udhampur' ,'Reasi', 'Punch', 'Doda']\n",
    "#----------------Karnataka--------------------------\n",
    "ka = ['Bagalkote', 'Ballari', 'Belagavi', 'Bengaluru Rural', 'Bengaluru Urban','Bidar', 'Chikkaballapura' ,'Chitradurga', \n",
    "      'Dakshina Kannada' ,'Davanagere','Dharwad','Gadag' ,'Kalaburagi' ,'Kodagu', 'Mandya' ,'Mysuru' , 'Tumakuru', 'Udupi',\n",
    "      'Uttara Kannada' ,'Vijayapura', 'Haveri' ,'Shivamogga','Hassan' ,'Kolar' ,'Yadgir', 'Koppal','Raichur' ,'Chikkamagaluru',\n",
    "      'Ramanagara' ,'Chamarajanagara']\n",
    "#----------------Kerala--------------------------\n",
    "kl = ['Alappuzha' ,'Ernakulam', 'Idukki' ,'Kannur' ,'Kasaragod' ,'Kollam' ,'Kottayam','Kozhikode', 'Malappuram' ,'Palakkad' \n",
    "      ,'Pathanamthitta' ,'Thiruvananthapuram','Thrissur' ,'Wayanad']\n",
    "#----------------Ladakh--------------------------\n",
    "la = ['Kargil','Leh']\n",
    "#----------------Maharashtra--------------------------\n",
    "mh = ['Ahmednagar' ,'Akola', 'Amravati', 'Aurangabad' ,'Beed', 'Buldhana','Chandrapur', 'Dhule', 'Gondia' ,'Hingoli','Jalgaon',\n",
    "      'Jalna', 'Kolhapur','Latur', 'Mumbai', 'Nagpur', 'Nanded' ,'Nandurbar' ,'Nashik', 'Osmanabad','Palghar',\n",
    "      'Parbhani', 'Pune', 'Raigad', 'Ratnagiri', 'Sangli','Satara', 'Sindhudurg', 'Solapur', 'Thane', 'Washim', 'Yavatmal', \n",
    "      'Bhandara','Wardha', 'Gadchiroli']\n",
    "#----------------Meghalaya--------------------------\n",
    "ml = ['East Khasi Hills', 'West Garo Hills', 'North Garo Hills','South West Garo Hills', 'West Khasi Hills', \n",
    "      'West Jaintia Hills' ,'Ribhoi','East Jaintia Hills', 'East Garo Hills', 'South Garo Hills','South West Khasi Hills']\n",
    "#----------------Madhya Pradesh--------------------------\n",
    "mp = ['Agar Malwa', 'Alirajpur' ,'Barwani' ,'Betul' ,'Bhopal', 'Chhindwara' ,'Dewas', 'Dhar' ,'Dindori' ,'Gwalior', \n",
    "      'Hoshangabad', 'Indore', 'Jabalpur', 'Khandwa','Khargone', 'Mandsaur' ,'Morena', 'Other Region', 'Raisen', 'Ratlam', \n",
    "      'Sagar','Shajapur', 'Sheopur' ,'Shivpuri' ,'Tikamgarh', 'Ujjain' ,'Vidisha', 'Harda','Ashoknagar', 'Burhanpur', 'Rewa', \n",
    "      'Shahdol', 'Anuppur', 'Katni', 'Niwari','Panna', 'Satna', 'Neemuch' ,'Jhabua', 'Guna', 'Sehore' ,'Bhind' ,'Mandla',\n",
    "     'Seoni', 'Sidhi' ,'Damoh', 'Datia' ,'Umaria', 'Rajgarh' ,'Singrauli','Chhatarpur', 'Balaghat', 'Narsinghpur']\n",
    "#----------------Mizoram--------------------------\n",
    "mz = ['Aizawl', 'Lunglei','Mamit','Saitual' ,'Lawngtlai', 'Champhai' ,'Khawzawl', 'Saiha', 'Kolasib', 'Serchhip', 'Hnahthial']\n",
    "#----------------Odisha--------------------------\n",
    "od = ['Balasore', 'Bhadrak', 'Cuttack' ,'Dhenkanal', 'Jajpur' ,'Kalahandi', 'Kendrapara', 'Khordha', 'Puri' ,'Sundargarh',\n",
    "      'Koraput', 'Deogarh', 'Jharsuguda', 'Kendujhar' ,'Balangir', 'Ganjam' ,'Jagatsinghpur', 'Mayurbhanj', 'Angul', 'Nayagarh',\n",
    "      'Boudh', 'Gajapati', 'Kandhamal', 'Malkangiri','Nuapada', 'Rayagada', 'Sambalpur', 'Nabarangapur', 'Bargarh','Subarnapur',\n",
    "      'State Pool']\n",
    "#----------------Punjab--------------------------\n",
    "pb = ['Amritsar', 'Barnala' ,'Faridkot', 'Fatehgarh Sahib', 'Ferozepur' ,'Gurdaspur','Hoshiarpur', 'Jalandhar', 'Kapurthala' \n",
    "      ,'Ludhiana' ,'Mansa', 'Moga','Pathankot', 'Patiala', 'Rupnagar', 'S.A.S. Nagar', 'Sangrur','Shahid Bhagat Singh Nagar' \n",
    "      ,'Sri Muktsar Sahib', 'Tarn Taran', 'Bathinda', 'Fazilka']\n",
    "#----------------Puducherry--------------------------\n",
    "py = ['Mahe', 'Puducherry', 'Karaikal', 'Yanam']\n",
    "#----------------Rajasthan--------------------------\n",
    "rj = ['Ajmer', 'Alwar', 'Banswara', 'Barmer', 'Bharatpur', 'Bhilwara', 'Bikaner','Chittorgarh' ,'Churu', 'Dausa' ,'Dholpur'\n",
    "      ,'Dungarpur', 'Evacuees','Hanumangarh','Jaipur', 'Jaisalmer', 'Jhalawar', 'Jhunjhunu','Jodhpur' ,'Karauli' \n",
    "      ,'Kota' ,'Nagaur' ,'Pali', 'Pratapgarh_rj','Rajsamand' ,'Sawai Madhopur', 'Sikar', 'Tonk', 'Udaipur', 'Baran',\n",
    "      'BSF Camp','Jalore', 'Sirohi' ,'Ganganagar', 'Bundi']\n",
    "#----------------Tamil Nadu--------------------------\n",
    "tn = ['Ariyalur', 'Chengalpattu' ,'Chennai' ,'Coimbatore' ,'Cuddalore', 'Dharmapuri','Dindigul' ,'Erode' ,'Kallakurichi', \n",
    "      'Kancheepuram' ,'Kanyakumari' ,'Karur','Madurai', 'Nagapattinam', 'Namakkal', 'Nilgiris', 'Perambalur', 'Pudukkottai',\n",
    "     'Ramanathapuram', 'Ranipet', 'Salem' ,'Sivaganga', 'Tenkasi', 'Thanjavur','Theni', 'Thiruvallur', 'Thiruvarur', \n",
    "      'Thoothukkudi', 'Tiruchirappalli','Tirunelveli', 'Tirupathur', 'Tiruppur', 'Tiruvannamalai', 'Vellore', 'Viluppuram', \n",
    "      'Virudhunagar', 'Krishnagiri', 'Airport Quarantine', 'Railway Quarantine']\n",
    "#----------------Tripura--------------------------\n",
    "tr = ['Gomati', 'North Tripura' ,'Dhalai' ,'Khowai' ,'Sipahijala', 'South Tripura', 'Unokoti' ,'West Tripura']\n",
    "#----------------Uttar Pradesh--------------------------\n",
    "up = ['Agra', 'Aligarh', 'Amroha', 'Auraiya', 'Ayodhya', 'Azamgarh', 'Baghpat', 'Bahraich', 'Balrampur', 'Banda', 'Barabanki', \n",
    "      'Bareilly', 'Basti', 'Bhadohi','Bijnor', 'Budaun', 'Bulandshahr', 'Etah', 'Etawah', 'Firozabad','Gautam Buddha Nagar', \n",
    "      'Ghaziabad', 'Ghazipur', 'Gonda', 'Hapur', 'Hardoi','Hathras', 'Jalaun', 'Jaunpur', 'Kannauj', 'Kanpur Nagar', 'Kasganj',\n",
    "     'Kaushambi', 'Lakhimpur Kheri', 'Lucknow' ,'Maharajganj', 'Mainpuri','Mathura', 'Mau', 'Meerut', 'Mirzapur', 'Moradabad', \n",
    "      'Muzaffarnagar','Pilibhit', 'Pratapgarh', 'Prayagraj', 'Rae Bareli', 'Rampur', 'Saharanpur','Sambhal' ,'Sant Kabir Nagar',\n",
    "      'Shahjahanpur' ,'Shamli' ,'Shrawasti','Sitapur' ,'Sultanpur', 'Unnao', 'Varanasi', 'Gorakhpur', 'Jhansi','Kanpur Dehat', \n",
    "      'Deoria', 'Siddharthnagar', 'Mahoba', 'Amethi', 'Kushinagar','Chitrakoot', 'Fatehpur', 'Farrukhabad', 'Hamirpur', \n",
    "      'Lalitpur', 'Sonbhadra','Ambedkar Nagar', 'Ballia', 'Chandauli']\n",
    "#----------------Uttarakhand--------------------------\n",
    "uk = ['Almora', 'Dehradun', 'Haridwar', 'Nainital' ,'Pauri Garhwal','Udham Singh Nagar', 'Uttarkashi', 'Bageshwar', 'Chamoli',\n",
    "      'Champawat','Pithoragarh', 'Rudraprayag' ,'Tehri Garhwal' ]\n",
    "#----------------West Bengal--------------------------\n",
    "wb = ['Darjeeling' ,'Hooghly', 'Howrah', 'Jalpaiguri', 'Kalimpong', 'Kolkata','Murshidabad', 'Nadia', 'North 24 Parganas',\n",
    "      'Paschim Bardhaman','Purba Bardhaman' ,'Purba Medinipur', 'South 24 Parganas', 'Birbhum', 'Malda' ,'Paschim Medinipur' ,\n",
    "      'Jhargram','Uttar Dinajpur', 'Dakshin Dinajpur', 'Bankura' ,'Purulia' ,'Alipurduar','Cooch Behar']\n",
    "#----------------Dadra and Nagar Haveli and Daman and Diu--------------------------\n",
    "dnd = ['Dadra and Nagar Haveli' ,'Daman' ,'Diu']\n",
    "#----------------Nagaland--------------------------\n",
    "ng = ['Dimapur', 'Kohima', 'Mokokchung', 'Mon' ,'Peren' ,'Phek','Tuensang' ,'Wokha', 'Kiphire' ,'Zunheboto','Longleng']\n",
    "#----------------Lakshadweep--------------------------\n",
    "lk = ['Lakshadweep']"
   ]
  },
  {
   "cell_type": "markdown",
   "id": "b0990436",
   "metadata": {},
   "source": [
    "<h5 style='color:#312244'>Function for plotting graph by district for each state.</h5> "
   ]
  },
  {
   "cell_type": "code",
   "execution_count": null,
   "id": "82eeb140",
   "metadata": {},
   "outputs": [],
   "source": [
    "def district_plot(st):\n",
    "    \n",
    "    for i in st:\n",
    "        a = district[district['District'] == i]\n",
    "        a['Date'] = pd.to_datetime(a['Date'], format = ('%Y-%m-%d'))\n",
    "        plt.figure(figsize = (15, 10))\n",
    "        sns.set_style(\"dark\")\n",
    "        rgb = np.random.rand(3,)\n",
    "        rgb1 = np.random.rand(3,)\n",
    "        rgb2 = np.random.rand(3,)\n",
    "\n",
    "        ax = sns.lineplot( a['Date'], a['Confirmed'], label = 'Confirmed', linestyle = '--', color = rgb, linewidth = 2.5)\n",
    "        ax = sns.lineplot( a['Date'], a['Recovered'], label = 'Recovered', linestyle = '-.', color = rgb1,linewidth = 2.5)\n",
    "        ax = sns.lineplot( a['Date'], a['Deceased'], label = 'Deceased', linestyle = ':', color = rgb2,linewidth = 2.5)\n",
    "    \n",
    "\n",
    "        for value in ax.lines:\n",
    "            y = value.get_ydata()\n",
    "            if len(y)>0:\n",
    "                ax.annotate(f'{y[-1]:.0f}',xy=(1,y[-1]), xycoords=('axes fraction','data'),ha='left',va='center',color=value.get_color())\n",
    "\n",
    "        ax.set_xlim(a['Date'].iloc[0], a['Date'].iloc[-1])\n",
    "        plt.ylabel('Counts', fontsize = 15)\n",
    "        plt.xlabel('Date', fontsize = 15)\n",
    "        plt.title('{} district of {} state'.format(a['District'].iloc[0], a['State'].iloc[0]), fontsize = 15)\n",
    "\n",
    "        plt.savefig(os.path.join('DIST_'+ today.strftime('%d-%m-%Y'), '{}.png'.format(i)))\n",
    "        "
   ]
  },
  {
   "cell_type": "markdown",
   "id": "045b8ece",
   "metadata": {},
   "source": [
    "<h2><center style='color:#f95738'>Data Visualization</h2><a class='anchor' id='e'></a>"
   ]
  },
  {
   "cell_type": "markdown",
   "id": "1ed80029",
   "metadata": {},
   "source": [
    "<h4 align='center' style='color:#4d194d'>District wise plot for each state.</h4> "
   ]
  },
  {
   "cell_type": "markdown",
   "id": "c2560d69",
   "metadata": {},
   "source": [
    "#### An alternative way to make lineplots for all the districts\n",
    "\n",
    "`(To use, un-comment all the lines and run the code)`"
   ]
  },
  {
   "cell_type": "code",
   "execution_count": null,
   "id": "d5c14457",
   "metadata": {},
   "outputs": [],
   "source": [
    "\n",
    "#\n",
    "#st = district['State'].unique()\n",
    "#for i in st:\n",
    "#    ds = district[district['State'] ==i]['District'].unique()\n",
    "#    for i in ds:\n",
    "#        a = district[district['District'] == i]\n",
    "#        a['Date'] = pd.to_datetime(a['Date'], format = ('%Y-%m-%d'))\n",
    "#        plt.figure(figsize = (15, 10))\n",
    "#        sns.set_style(\"dark\")\n",
    "#        rgb = np.random.rand(3,)\n",
    "#        rgb1 = np.random.rand(3,)\n",
    "#        rgb2 = np.random.rand(3,)\n",
    "\n",
    "#        ax = sns.lineplot( a['Date'], a['Confirmed'], label = 'Confirmed', linestyle = '--', color = rgb, linewidth = 2.5)\n",
    "#        ax = sns.lineplot( a['Date'], a['Recovered'], label = 'Recovered', linestyle = '-.', color = rgb1,linewidth = 2.5)\n",
    "#        ax = sns.lineplot( a['Date'], a['Deceased'], label = 'Deceased', linestyle = ':', color = rgb2,linewidth = 2.5)\n",
    "\n",
    "\n",
    "#        for value in ax.lines:\n",
    "#            y = value.get_ydata()\n",
    "#            if len(y)>0:\n",
    "#                ax.annotate(f'{y[-1]:.0f}',xy=(1,y[-1]), xycoords=('axes fraction','data'),ha='left',va='center',color=value.get_color())\n",
    "\n",
    "#        ax.set_xlim(a['Date'].iloc[0], a['Date'].iloc[-1])\n",
    "#        plt.ylabel('Counts', fontsize = 15)\n",
    "#        plt.xlabel('Date', fontsize = 15)\n",
    "#        plt.title('{} district of {} state'.format(a['District'].iloc[0], a['State'].iloc[0]), fontsize = 15)\n",
    "\n",
    "#        plt.savefig(os.path.join('DIST_'+ today.strftime('%d-%m-%Y'), '{}.png'.format(i)))\n"
   ]
  },
  {
   "cell_type": "markdown",
   "id": "eba7406c",
   "metadata": {},
   "source": [
    "<b><i><h3 align='center' style='color:#33415c'>Andaman & Nicobar Islands<a class='anchor' id='1'></a>"
   ]
  },
  {
   "cell_type": "code",
   "execution_count": null,
   "id": "3eeffd52",
   "metadata": {},
   "outputs": [],
   "source": [
    "district_plot(an)"
   ]
  },
  {
   "cell_type": "markdown",
   "id": "0f5ff480",
   "metadata": {},
   "source": [
    "<b><i><h3 align='center' style='color:#33415c'>Andhra Pradesh<a class='anchor' id='2'></a>"
   ]
  },
  {
   "cell_type": "code",
   "execution_count": null,
   "id": "d8f23f6f",
   "metadata": {
    "scrolled": false
   },
   "outputs": [],
   "source": [
    "district_plot(ap)"
   ]
  },
  {
   "cell_type": "markdown",
   "id": "833d8df9",
   "metadata": {},
   "source": [
    "<b><i><h3 align='center' style='color:#33415c'>Arunanchal Pradesh<a class='anchor' id='3'></a>"
   ]
  },
  {
   "cell_type": "code",
   "execution_count": null,
   "id": "d4908606",
   "metadata": {
    "scrolled": false
   },
   "outputs": [],
   "source": [
    "district_plot(ar)"
   ]
  },
  {
   "cell_type": "markdown",
   "id": "19acaff7",
   "metadata": {},
   "source": [
    "<b><i><h3 align='center' style='color:#33415c'>Assam<a class='anchor' id='4'></a>"
   ]
  },
  {
   "cell_type": "code",
   "execution_count": null,
   "id": "61ed269e",
   "metadata": {},
   "outputs": [],
   "source": [
    "district_plot(aS)"
   ]
  },
  {
   "cell_type": "markdown",
   "id": "eda6b3b1",
   "metadata": {},
   "source": [
    "<b><i><h3 align='center' style='color:#33415c'>Bihar<a class='anchor' id='5'></a>"
   ]
  },
  {
   "cell_type": "code",
   "execution_count": null,
   "id": "db8336ce",
   "metadata": {
    "scrolled": false
   },
   "outputs": [],
   "source": [
    "district_plot(br)"
   ]
  },
  {
   "cell_type": "markdown",
   "id": "80e2d8ad",
   "metadata": {},
   "source": [
    "<b><i><h3 align='center' style='color:#33415c'>Chandigarh<a class='anchor' id='6'></a>"
   ]
  },
  {
   "cell_type": "code",
   "execution_count": null,
   "id": "b46e4264",
   "metadata": {},
   "outputs": [],
   "source": [
    "district_plot(ch)"
   ]
  },
  {
   "cell_type": "markdown",
   "id": "a658516e",
   "metadata": {},
   "source": [
    "<b><i><h3 align='center' style='color:#33415c'>Chhattisgarh<a class='anchor' id='7'></a>"
   ]
  },
  {
   "cell_type": "code",
   "execution_count": null,
   "id": "40566bf8",
   "metadata": {
    "scrolled": false
   },
   "outputs": [],
   "source": [
    "district_plot(cg)"
   ]
  },
  {
   "cell_type": "markdown",
   "id": "699f24f7",
   "metadata": {},
   "source": [
    "<b><i><h3 align='center' style='color:#33415c'>Dadra and Nagar Haveli and Daman Diu<a class='anchor' id='8'></a>"
   ]
  },
  {
   "cell_type": "code",
   "execution_count": null,
   "id": "652dfa46",
   "metadata": {
    "scrolled": false
   },
   "outputs": [],
   "source": [
    "district_plot(dnd)"
   ]
  },
  {
   "cell_type": "markdown",
   "id": "1a098cb6",
   "metadata": {},
   "source": [
    "<b><i><h3 align='center' style='color:#33415c'>Delhi<a class='anchor' id='9'></a>"
   ]
  },
  {
   "cell_type": "code",
   "execution_count": null,
   "id": "e6c6129e",
   "metadata": {},
   "outputs": [],
   "source": [
    "district_plot(dl)"
   ]
  },
  {
   "cell_type": "markdown",
   "id": "a90104b7",
   "metadata": {},
   "source": [
    "<b><i><h3 align='center' style='color:#33415c'>Goa<a class='anchor' id='10'></a>"
   ]
  },
  {
   "cell_type": "code",
   "execution_count": null,
   "id": "8bd767d5",
   "metadata": {},
   "outputs": [],
   "source": [
    "district_plot(ga)"
   ]
  },
  {
   "cell_type": "markdown",
   "id": "6a7b7045",
   "metadata": {},
   "source": [
    "<b><i><h3 align='center' style='color:#33415c'>Gujarat<a class='anchor' id='11'></a>"
   ]
  },
  {
   "cell_type": "code",
   "execution_count": null,
   "id": "30cd2884",
   "metadata": {
    "scrolled": false
   },
   "outputs": [],
   "source": [
    "district_plot(gj)"
   ]
  },
  {
   "cell_type": "markdown",
   "id": "eb27a89b",
   "metadata": {},
   "source": [
    "<b><i><h3 align='center' style='color:#33415c'>Haryana<a class='anchor' id='12'></a>"
   ]
  },
  {
   "cell_type": "code",
   "execution_count": null,
   "id": "5b62d3e2",
   "metadata": {
    "scrolled": false
   },
   "outputs": [],
   "source": [
    "district_plot(hr)"
   ]
  },
  {
   "cell_type": "markdown",
   "id": "4a1be811",
   "metadata": {},
   "source": [
    "<b><i><h3 align='center' style='color:#33415c'>Himnachal Pradesh<a class='anchor' id='13'></a>"
   ]
  },
  {
   "cell_type": "code",
   "execution_count": null,
   "id": "7ae9f693",
   "metadata": {
    "scrolled": false
   },
   "outputs": [],
   "source": [
    "district_plot(hp)"
   ]
  },
  {
   "cell_type": "markdown",
   "id": "2089d43a",
   "metadata": {},
   "source": [
    "<b><i><h3 align='center' style='color:#33415c'>Jammu Kashmir<a class='anchor' id='14'></a>"
   ]
  },
  {
   "cell_type": "code",
   "execution_count": null,
   "id": "84449e7d",
   "metadata": {
    "scrolled": false
   },
   "outputs": [],
   "source": [
    "district_plot(jk)"
   ]
  },
  {
   "cell_type": "markdown",
   "id": "7687681b",
   "metadata": {},
   "source": [
    "<b><i><h3 align='center' style='color:#33415c'>Jharkhand<a class='anchor' id='15'></a>"
   ]
  },
  {
   "cell_type": "code",
   "execution_count": null,
   "id": "ac155b32",
   "metadata": {
    "scrolled": false
   },
   "outputs": [],
   "source": [
    "district_plot(jh)"
   ]
  },
  {
   "cell_type": "markdown",
   "id": "b0834374",
   "metadata": {},
   "source": [
    "<b><i><h3 align='center' style='color:#33415c'>Karnataka<a class='anchor' id='16'></a>"
   ]
  },
  {
   "cell_type": "code",
   "execution_count": null,
   "id": "2e294156",
   "metadata": {
    "scrolled": false
   },
   "outputs": [],
   "source": [
    "district_plot(ka)"
   ]
  },
  {
   "cell_type": "markdown",
   "id": "e07003d2",
   "metadata": {},
   "source": [
    "<b><i><h3 align='center' style='color:#33415c'>Kerala<a class='anchor' id='17'></a>"
   ]
  },
  {
   "cell_type": "code",
   "execution_count": null,
   "id": "537681b0",
   "metadata": {
    "scrolled": false
   },
   "outputs": [],
   "source": [
    "district_plot(kl)"
   ]
  },
  {
   "cell_type": "markdown",
   "id": "bc95029d",
   "metadata": {},
   "source": [
    "<b><i><h3 align='center' style='color:#33415c'>Ladakh<a class='anchor' id='18'></a>"
   ]
  },
  {
   "cell_type": "code",
   "execution_count": null,
   "id": "b9cfa61a",
   "metadata": {},
   "outputs": [],
   "source": [
    "district_plot(la)"
   ]
  },
  {
   "cell_type": "markdown",
   "id": "61fa9bf2",
   "metadata": {},
   "source": [
    "<b><i><h3 align='center' style='color:#33415c'>Lakshadweep<a class='anchor' id='19'></a>"
   ]
  },
  {
   "cell_type": "code",
   "execution_count": null,
   "id": "4d21bbc1",
   "metadata": {},
   "outputs": [],
   "source": [
    "district_plot(lk)"
   ]
  },
  {
   "cell_type": "markdown",
   "id": "f8b2082e",
   "metadata": {},
   "source": [
    "<b><i><h3 align='center' style='color:#33415c' id='20'>Madhya Pradesh</h3>"
   ]
  },
  {
   "cell_type": "code",
   "execution_count": null,
   "id": "53f5ff58",
   "metadata": {
    "scrolled": false
   },
   "outputs": [],
   "source": [
    "district_plot(mp)"
   ]
  },
  {
   "cell_type": "markdown",
   "id": "8c39c2e6",
   "metadata": {},
   "source": [
    "<b><i><h3 align='center' style='color:#33415c'>Maharashtra<a class='anchor' id='21'></a>"
   ]
  },
  {
   "cell_type": "code",
   "execution_count": null,
   "id": "89276186",
   "metadata": {
    "scrolled": false
   },
   "outputs": [],
   "source": [
    "district_plot(mh)"
   ]
  },
  {
   "cell_type": "markdown",
   "id": "20fe0f92",
   "metadata": {},
   "source": [
    "<b><i><h3 align='center' style='color:#33415c'>Manipur<a class='anchor' id='22'></a>"
   ]
  },
  {
   "cell_type": "code",
   "execution_count": null,
   "id": "c0f5e086",
   "metadata": {},
   "outputs": [],
   "source": [
    "district_plot(mn)"
   ]
  },
  {
   "cell_type": "markdown",
   "id": "9fc282ee",
   "metadata": {},
   "source": [
    "<b><i><h3 align='center' style='color:#33415c'>Meghalaya<a class='anchor' id='23'></a>"
   ]
  },
  {
   "cell_type": "code",
   "execution_count": null,
   "id": "191692ae",
   "metadata": {
    "scrolled": false
   },
   "outputs": [],
   "source": [
    "district_plot(ml)"
   ]
  },
  {
   "cell_type": "markdown",
   "id": "607c4d4e",
   "metadata": {},
   "source": [
    "<b><i><h3 align='center' style='color:#33415c'>Mizoram<a class='anchor' id='24'></a>"
   ]
  },
  {
   "cell_type": "code",
   "execution_count": null,
   "id": "364f9405",
   "metadata": {
    "scrolled": false
   },
   "outputs": [],
   "source": [
    "district_plot(mz)"
   ]
  },
  {
   "cell_type": "markdown",
   "id": "2bd6e923",
   "metadata": {},
   "source": [
    "<b><i><h3 align='center' style='color:#33415c'>Nagaland<a class='anchor' id='25'></a>"
   ]
  },
  {
   "cell_type": "code",
   "execution_count": null,
   "id": "a3463e55",
   "metadata": {
    "scrolled": false
   },
   "outputs": [],
   "source": [
    "district_plot(ng)"
   ]
  },
  {
   "cell_type": "markdown",
   "id": "450ca010",
   "metadata": {},
   "source": [
    "<b><i><h3 align='center' style='color:#33415c'>Odisha<a class='anchor' id='26'></a>"
   ]
  },
  {
   "cell_type": "code",
   "execution_count": null,
   "id": "370a8d4a",
   "metadata": {
    "scrolled": false
   },
   "outputs": [],
   "source": [
    "district_plot(od)"
   ]
  },
  {
   "cell_type": "markdown",
   "id": "3306ef25",
   "metadata": {},
   "source": [
    "<b><i><h3 align='center' style='color:#33415c'>Puducherry<a class='anchor' id='27'></a>"
   ]
  },
  {
   "cell_type": "code",
   "execution_count": null,
   "id": "4d4f1e0a",
   "metadata": {
    "scrolled": false
   },
   "outputs": [],
   "source": [
    "district_plot(py)"
   ]
  },
  {
   "cell_type": "markdown",
   "id": "684a2eaf",
   "metadata": {},
   "source": [
    "<b><i><h3 align='center' style='color:#33415c'>Punjab<a class='anchor' id='28'></a>"
   ]
  },
  {
   "cell_type": "code",
   "execution_count": null,
   "id": "35059f56",
   "metadata": {
    "scrolled": false
   },
   "outputs": [],
   "source": [
    "district_plot(pb)"
   ]
  },
  {
   "cell_type": "markdown",
   "id": "d0801781",
   "metadata": {},
   "source": [
    "<b><i><h3 align='center' style='color:#33415c'>Rajasthan<a class='anchor' id='29'></a>"
   ]
  },
  {
   "cell_type": "code",
   "execution_count": null,
   "id": "a2aec20c",
   "metadata": {},
   "outputs": [],
   "source": [
    "district_plot(rj)"
   ]
  },
  {
   "cell_type": "markdown",
   "id": "9bcfcc69",
   "metadata": {},
   "source": [
    "<b><i><h3 align='center' style='color:#33415c'>Sikkim<a class='anchor' id='30'></a>"
   ]
  },
  {
   "cell_type": "code",
   "execution_count": null,
   "id": "fa1ed8dc",
   "metadata": {},
   "outputs": [],
   "source": [
    "district_plot(sk)"
   ]
  },
  {
   "cell_type": "markdown",
   "id": "16e152c1",
   "metadata": {},
   "source": [
    "<b><i><h3 align='center' style='color:#33415c'>Tamil Nadu<a class='anchor' id='31'></a>"
   ]
  },
  {
   "cell_type": "code",
   "execution_count": null,
   "id": "8f53598b",
   "metadata": {
    "scrolled": false
   },
   "outputs": [],
   "source": [
    "district_plot(tn)"
   ]
  },
  {
   "cell_type": "markdown",
   "id": "607ec0b9",
   "metadata": {},
   "source": [
    "<b><i><h3 align='center' style='color:#33415c'>Telangana<a class='anchor' id='32'></a>"
   ]
  },
  {
   "cell_type": "code",
   "execution_count": null,
   "id": "74f49f88",
   "metadata": {},
   "outputs": [],
   "source": [
    "district_plot(ts)"
   ]
  },
  {
   "cell_type": "markdown",
   "id": "3fb67300",
   "metadata": {},
   "source": [
    "<b><i><h3 align='center' style='color:#33415c'>Tripura<a class='anchor' id='33'></a>"
   ]
  },
  {
   "cell_type": "code",
   "execution_count": null,
   "id": "c5ba3a80",
   "metadata": {
    "scrolled": false
   },
   "outputs": [],
   "source": [
    "district_plot(tr)"
   ]
  },
  {
   "cell_type": "markdown",
   "id": "0952cefd",
   "metadata": {},
   "source": [
    "<b><i><h3 align='center' style='color:#33415c'>Uttar Pradesh<a class='anchor' id='34'></a>"
   ]
  },
  {
   "cell_type": "code",
   "execution_count": null,
   "id": "cb6054f6",
   "metadata": {
    "scrolled": false
   },
   "outputs": [],
   "source": [
    "district_plot(up)"
   ]
  },
  {
   "cell_type": "markdown",
   "id": "4d63a7c2",
   "metadata": {},
   "source": [
    "<b><i><h3 align='center' style='color:#33415c'>Uttarakhand<a class='anchor' id='35'></a>"
   ]
  },
  {
   "cell_type": "code",
   "execution_count": null,
   "id": "c58c475f",
   "metadata": {
    "scrolled": false
   },
   "outputs": [],
   "source": [
    "district_plot(uk)"
   ]
  },
  {
   "cell_type": "markdown",
   "id": "3ca34306",
   "metadata": {},
   "source": [
    "<b><i><h3 align='center' style='color:#33415c'>West Bengal<a class='anchor' id='36'></a>"
   ]
  },
  {
   "cell_type": "code",
   "execution_count": null,
   "id": "d541cb49",
   "metadata": {
    "scrolled": false
   },
   "outputs": [],
   "source": [
    "district_plot(wb)"
   ]
  },
  {
   "cell_type": "markdown",
   "id": "470f4d22",
   "metadata": {},
   "source": [
    "<h2><center style='color:#f95738'>Stats</h2><a class='anchor' id='f'></a>"
   ]
  },
  {
   "cell_type": "code",
   "execution_count": null,
   "id": "4494deee",
   "metadata": {},
   "outputs": [],
   "source": [
    "def dist_stat(dis):\n",
    "    for i in dis:\n",
    "        print(' ')\n",
    "        print('-----------------------------------------Confirmed----------------------------------------------------------------------')\n",
    "        print('Total Confirmed cases in {} district of {} are {}'.format(i, district[district['District'] == i]['State'].iloc[0],\n",
    "                                                                   district[district['District'] == i]['Confirmed'].iloc[-1] ))\n",
    "        print('-----------------------------------------Recovered----------------------------------------------------------------------')\n",
    "        print('Total Recovered cases in {} district of {} are {}'.format(i, district[district['District'] == i]['State'].iloc[0],\n",
    "                                                                   district[district['District'] == i]['Recovered'].iloc[-1] ))\n",
    "        print('-----------------------------------------Deceased-----------------------------------------------------------------------')\n",
    "        print('Total Deceased cases in {} district of {} are {}'.format(i, district[district['District'] == i]['State'].iloc[0],\n",
    "                                                               district[district['District'] == i]['Deceased'].iloc[-1] ))\n",
    "        print('-----------------------------------------Tested-------------------------------------------------------------------------')\n",
    "        print('Total Tested cases in {} district of {} are {}'.format(i, district[district['District'] == i]['State'].iloc[0],\n",
    "                                                               district[district['District'] == i]['Tested'].iloc[-1] ))\n",
    "        print(' ')\n",
    "        print('XOXOXOXOXOXOXOXOXOXOXOXOXOXOXOXOXOXOXOXOXOXOXOXOXOXOXOXOXOXOXOXOXOXOXOXOXOXOXOXOXOXOXOXOXOXOXOXOXOXOXOXOXOXOXOXOXOXOXOXOX')"
   ]
  },
  {
   "cell_type": "code",
   "execution_count": null,
   "id": "dc90b3ce",
   "metadata": {
    "scrolled": false
   },
   "outputs": [],
   "source": [
    "dist_stat(ap)"
   ]
  },
  {
   "cell_type": "code",
   "execution_count": null,
   "id": "007cc511",
   "metadata": {
    "scrolled": false
   },
   "outputs": [],
   "source": [
    "dist_stat(ar)"
   ]
  },
  {
   "cell_type": "code",
   "execution_count": null,
   "id": "be437340",
   "metadata": {
    "scrolled": false
   },
   "outputs": [],
   "source": [
    "dist_stat(br)"
   ]
  },
  {
   "cell_type": "code",
   "execution_count": null,
   "id": "f40eb997",
   "metadata": {
    "scrolled": true
   },
   "outputs": [],
   "source": [
    "dist_stat(ch)"
   ]
  },
  {
   "cell_type": "code",
   "execution_count": null,
   "id": "3d396dac",
   "metadata": {
    "scrolled": false
   },
   "outputs": [],
   "source": [
    "dist_stat(cg)"
   ]
  },
  {
   "cell_type": "code",
   "execution_count": null,
   "id": "c883bdcb",
   "metadata": {
    "scrolled": false
   },
   "outputs": [],
   "source": [
    "dist_stat(dnd)"
   ]
  },
  {
   "cell_type": "code",
   "execution_count": null,
   "id": "865d3640",
   "metadata": {
    "scrolled": true
   },
   "outputs": [],
   "source": [
    "dist_stat(dl)"
   ]
  },
  {
   "cell_type": "code",
   "execution_count": null,
   "id": "abe91a64",
   "metadata": {
    "scrolled": false
   },
   "outputs": [],
   "source": [
    "dist_stat(gj)"
   ]
  },
  {
   "cell_type": "code",
   "execution_count": null,
   "id": "873e6b64",
   "metadata": {
    "scrolled": false
   },
   "outputs": [],
   "source": [
    "dist_stat(hr)"
   ]
  },
  {
   "cell_type": "code",
   "execution_count": null,
   "id": "f6ee5718",
   "metadata": {
    "scrolled": false
   },
   "outputs": [],
   "source": [
    "dist_stat(hp)"
   ]
  },
  {
   "cell_type": "code",
   "execution_count": null,
   "id": "1093e675",
   "metadata": {
    "scrolled": false
   },
   "outputs": [],
   "source": [
    "dist_stat(jk)"
   ]
  },
  {
   "cell_type": "code",
   "execution_count": null,
   "id": "0dd48b31",
   "metadata": {
    "scrolled": false
   },
   "outputs": [],
   "source": [
    "dist_stat(jh)"
   ]
  },
  {
   "cell_type": "code",
   "execution_count": null,
   "id": "0927e819",
   "metadata": {
    "scrolled": false
   },
   "outputs": [],
   "source": [
    "dist_stat(ka)"
   ]
  },
  {
   "cell_type": "code",
   "execution_count": null,
   "id": "bba634ca",
   "metadata": {
    "scrolled": false
   },
   "outputs": [],
   "source": [
    "dist_stat(kl)"
   ]
  },
  {
   "cell_type": "code",
   "execution_count": null,
   "id": "66670d6d",
   "metadata": {
    "scrolled": true
   },
   "outputs": [],
   "source": [
    "dist_stat(la)"
   ]
  },
  {
   "cell_type": "code",
   "execution_count": null,
   "id": "d36f20e1",
   "metadata": {
    "scrolled": true
   },
   "outputs": [],
   "source": [
    "dist_stat(lk)"
   ]
  },
  {
   "cell_type": "code",
   "execution_count": null,
   "id": "44b581a2",
   "metadata": {
    "scrolled": false
   },
   "outputs": [],
   "source": [
    "dist_stat(mp)"
   ]
  },
  {
   "cell_type": "code",
   "execution_count": null,
   "id": "1876a525",
   "metadata": {
    "scrolled": false
   },
   "outputs": [],
   "source": [
    "dist_stat(mh)"
   ]
  },
  {
   "cell_type": "code",
   "execution_count": null,
   "id": "7c92ac0e",
   "metadata": {
    "scrolled": false
   },
   "outputs": [],
   "source": [
    "dist_stat(ml)"
   ]
  },
  {
   "cell_type": "code",
   "execution_count": null,
   "id": "febca9b4",
   "metadata": {
    "scrolled": false
   },
   "outputs": [],
   "source": [
    "dist_stat(mz)"
   ]
  },
  {
   "cell_type": "code",
   "execution_count": null,
   "id": "eb0fb5b5",
   "metadata": {
    "scrolled": false
   },
   "outputs": [],
   "source": [
    "dist_stat(ng)"
   ]
  },
  {
   "cell_type": "code",
   "execution_count": null,
   "id": "d13c34bc",
   "metadata": {
    "scrolled": false
   },
   "outputs": [],
   "source": [
    "dist_stat(od)"
   ]
  },
  {
   "cell_type": "code",
   "execution_count": null,
   "id": "158b2fd2",
   "metadata": {
    "scrolled": false
   },
   "outputs": [],
   "source": [
    "dist_stat(py)"
   ]
  },
  {
   "cell_type": "code",
   "execution_count": null,
   "id": "60e0d383",
   "metadata": {
    "scrolled": false
   },
   "outputs": [],
   "source": [
    "dist_stat(pb)"
   ]
  },
  {
   "cell_type": "code",
   "execution_count": null,
   "id": "6a334f3b",
   "metadata": {
    "scrolled": false
   },
   "outputs": [],
   "source": [
    "dist_stat(rj)"
   ]
  },
  {
   "cell_type": "code",
   "execution_count": null,
   "id": "b84c026d",
   "metadata": {
    "scrolled": false
   },
   "outputs": [],
   "source": [
    "dist_stat(tn)"
   ]
  },
  {
   "cell_type": "code",
   "execution_count": null,
   "id": "f5301524",
   "metadata": {
    "scrolled": false
   },
   "outputs": [],
   "source": [
    "dist_stat(tr)"
   ]
  },
  {
   "cell_type": "code",
   "execution_count": null,
   "id": "7c76599a",
   "metadata": {
    "scrolled": false
   },
   "outputs": [],
   "source": [
    "dist_stat(uk)"
   ]
  },
  {
   "cell_type": "code",
   "execution_count": null,
   "id": "da6149a4",
   "metadata": {
    "scrolled": false
   },
   "outputs": [],
   "source": [
    "dist_stat(up)"
   ]
  },
  {
   "cell_type": "code",
   "execution_count": null,
   "id": "504eb4c7",
   "metadata": {
    "scrolled": false
   },
   "outputs": [],
   "source": [
    "dist_stat(wb)"
   ]
  },
  {
   "cell_type": "markdown",
   "id": "db6c8663",
   "metadata": {},
   "source": [
    "[TOP](#a)"
   ]
  }
 ],
 "metadata": {
  "kernelspec": {
   "display_name": "Python 3",
   "language": "python",
   "name": "python3"
  },
  "language_info": {
   "codemirror_mode": {
    "name": "ipython",
    "version": 3
   },
   "file_extension": ".py",
   "mimetype": "text/x-python",
   "name": "python",
   "nbconvert_exporter": "python",
   "pygments_lexer": "ipython3",
   "version": "3.9.5"
  }
 },
 "nbformat": 4,
 "nbformat_minor": 5
}
